{
  "nbformat": 4,
  "nbformat_minor": 0,
  "metadata": {
    "colab": {
      "provenance": []
    },
    "kernelspec": {
      "name": "python3",
      "display_name": "Python 3"
    },
    "language_info": {
      "name": "python"
    }
  },
  "cells": [
    {
      "cell_type": "markdown",
      "source": [
        "## Proximity Matrix"
      ],
      "metadata": {
        "id": "5dyTnfznGYD3"
      }
    },
    {
      "cell_type": "markdown",
      "source": [
        "import library yang dibutuhkan"
      ],
      "metadata": {
        "id": "-syi6Yoy0KAM"
      }
    },
    {
      "cell_type": "code",
      "execution_count": 1,
      "metadata": {
        "id": "XCztdRqlpbrZ"
      },
      "outputs": [],
      "source": [
        "import pandas as pd\n",
        "import numpy as np\n",
        "import math"
      ]
    },
    {
      "cell_type": "markdown",
      "source": [
        "membaca excel menggunakan library pandas"
      ],
      "metadata": {
        "id": "qazg1NJJ0bGU"
      }
    },
    {
      "cell_type": "code",
      "source": [
        "exc = pd.read_excel('DataCoba.xlsx', sheet_name='Sheet1')\n",
        "# slicing seluruh data dari semua atribut kecuali class atau label\n",
        "data = exc.iloc[:,1:]\n",
        "data"
      ],
      "metadata": {
        "colab": {
          "base_uri": "https://localhost:8080/",
          "height": 300
        },
        "id": "g1VVjxwxIVTI",
        "outputId": "8864d53c-e61b-4674-b2d1-646f2566d3be"
      },
      "execution_count": 2,
      "outputs": [
        {
          "output_type": "execute_result",
          "data": {
            "text/plain": [
              "   Feat 1  Feat 2  Feat 3\n",
              "0      15       0       5\n",
              "1       0      20       0\n",
              "2       6       3       5\n",
              "3       2       7       0\n",
              "4       1       0       3\n",
              "5       0       1       1\n",
              "6       8       9       3\n",
              "7       5       1       7"
            ],
            "text/html": [
              "\n",
              "  <div id=\"df-8bf0a4d7-8fd9-498e-b9cd-d7e3f5767a7c\">\n",
              "    <div class=\"colab-df-container\">\n",
              "      <div>\n",
              "<style scoped>\n",
              "    .dataframe tbody tr th:only-of-type {\n",
              "        vertical-align: middle;\n",
              "    }\n",
              "\n",
              "    .dataframe tbody tr th {\n",
              "        vertical-align: top;\n",
              "    }\n",
              "\n",
              "    .dataframe thead th {\n",
              "        text-align: right;\n",
              "    }\n",
              "</style>\n",
              "<table border=\"1\" class=\"dataframe\">\n",
              "  <thead>\n",
              "    <tr style=\"text-align: right;\">\n",
              "      <th></th>\n",
              "      <th>Feat 1</th>\n",
              "      <th>Feat 2</th>\n",
              "      <th>Feat 3</th>\n",
              "    </tr>\n",
              "  </thead>\n",
              "  <tbody>\n",
              "    <tr>\n",
              "      <th>0</th>\n",
              "      <td>15</td>\n",
              "      <td>0</td>\n",
              "      <td>5</td>\n",
              "    </tr>\n",
              "    <tr>\n",
              "      <th>1</th>\n",
              "      <td>0</td>\n",
              "      <td>20</td>\n",
              "      <td>0</td>\n",
              "    </tr>\n",
              "    <tr>\n",
              "      <th>2</th>\n",
              "      <td>6</td>\n",
              "      <td>3</td>\n",
              "      <td>5</td>\n",
              "    </tr>\n",
              "    <tr>\n",
              "      <th>3</th>\n",
              "      <td>2</td>\n",
              "      <td>7</td>\n",
              "      <td>0</td>\n",
              "    </tr>\n",
              "    <tr>\n",
              "      <th>4</th>\n",
              "      <td>1</td>\n",
              "      <td>0</td>\n",
              "      <td>3</td>\n",
              "    </tr>\n",
              "    <tr>\n",
              "      <th>5</th>\n",
              "      <td>0</td>\n",
              "      <td>1</td>\n",
              "      <td>1</td>\n",
              "    </tr>\n",
              "    <tr>\n",
              "      <th>6</th>\n",
              "      <td>8</td>\n",
              "      <td>9</td>\n",
              "      <td>3</td>\n",
              "    </tr>\n",
              "    <tr>\n",
              "      <th>7</th>\n",
              "      <td>5</td>\n",
              "      <td>1</td>\n",
              "      <td>7</td>\n",
              "    </tr>\n",
              "  </tbody>\n",
              "</table>\n",
              "</div>\n",
              "      <button class=\"colab-df-convert\" onclick=\"convertToInteractive('df-8bf0a4d7-8fd9-498e-b9cd-d7e3f5767a7c')\"\n",
              "              title=\"Convert this dataframe to an interactive table.\"\n",
              "              style=\"display:none;\">\n",
              "        \n",
              "  <svg xmlns=\"http://www.w3.org/2000/svg\" height=\"24px\"viewBox=\"0 0 24 24\"\n",
              "       width=\"24px\">\n",
              "    <path d=\"M0 0h24v24H0V0z\" fill=\"none\"/>\n",
              "    <path d=\"M18.56 5.44l.94 2.06.94-2.06 2.06-.94-2.06-.94-.94-2.06-.94 2.06-2.06.94zm-11 1L8.5 8.5l.94-2.06 2.06-.94-2.06-.94L8.5 2.5l-.94 2.06-2.06.94zm10 10l.94 2.06.94-2.06 2.06-.94-2.06-.94-.94-2.06-.94 2.06-2.06.94z\"/><path d=\"M17.41 7.96l-1.37-1.37c-.4-.4-.92-.59-1.43-.59-.52 0-1.04.2-1.43.59L10.3 9.45l-7.72 7.72c-.78.78-.78 2.05 0 2.83L4 21.41c.39.39.9.59 1.41.59.51 0 1.02-.2 1.41-.59l7.78-7.78 2.81-2.81c.8-.78.8-2.07 0-2.86zM5.41 20L4 18.59l7.72-7.72 1.47 1.35L5.41 20z\"/>\n",
              "  </svg>\n",
              "      </button>\n",
              "      \n",
              "  <style>\n",
              "    .colab-df-container {\n",
              "      display:flex;\n",
              "      flex-wrap:wrap;\n",
              "      gap: 12px;\n",
              "    }\n",
              "\n",
              "    .colab-df-convert {\n",
              "      background-color: #E8F0FE;\n",
              "      border: none;\n",
              "      border-radius: 50%;\n",
              "      cursor: pointer;\n",
              "      display: none;\n",
              "      fill: #1967D2;\n",
              "      height: 32px;\n",
              "      padding: 0 0 0 0;\n",
              "      width: 32px;\n",
              "    }\n",
              "\n",
              "    .colab-df-convert:hover {\n",
              "      background-color: #E2EBFA;\n",
              "      box-shadow: 0px 1px 2px rgba(60, 64, 67, 0.3), 0px 1px 3px 1px rgba(60, 64, 67, 0.15);\n",
              "      fill: #174EA6;\n",
              "    }\n",
              "\n",
              "    [theme=dark] .colab-df-convert {\n",
              "      background-color: #3B4455;\n",
              "      fill: #D2E3FC;\n",
              "    }\n",
              "\n",
              "    [theme=dark] .colab-df-convert:hover {\n",
              "      background-color: #434B5C;\n",
              "      box-shadow: 0px 1px 3px 1px rgba(0, 0, 0, 0.15);\n",
              "      filter: drop-shadow(0px 1px 2px rgba(0, 0, 0, 0.3));\n",
              "      fill: #FFFFFF;\n",
              "    }\n",
              "  </style>\n",
              "\n",
              "      <script>\n",
              "        const buttonEl =\n",
              "          document.querySelector('#df-8bf0a4d7-8fd9-498e-b9cd-d7e3f5767a7c button.colab-df-convert');\n",
              "        buttonEl.style.display =\n",
              "          google.colab.kernel.accessAllowed ? 'block' : 'none';\n",
              "\n",
              "        async function convertToInteractive(key) {\n",
              "          const element = document.querySelector('#df-8bf0a4d7-8fd9-498e-b9cd-d7e3f5767a7c');\n",
              "          const dataTable =\n",
              "            await google.colab.kernel.invokeFunction('convertToInteractive',\n",
              "                                                     [key], {});\n",
              "          if (!dataTable) return;\n",
              "\n",
              "          const docLinkHtml = 'Like what you see? Visit the ' +\n",
              "            '<a target=\"_blank\" href=https://colab.research.google.com/notebooks/data_table.ipynb>data table notebook</a>'\n",
              "            + ' to learn more about interactive tables.';\n",
              "          element.innerHTML = '';\n",
              "          dataTable['output_type'] = 'display_data';\n",
              "          await google.colab.output.renderOutput(dataTable, element);\n",
              "          const docLink = document.createElement('div');\n",
              "          docLink.innerHTML = docLinkHtml;\n",
              "          element.appendChild(docLink);\n",
              "        }\n",
              "      </script>\n",
              "    </div>\n",
              "  </div>\n",
              "  "
            ]
          },
          "metadata": {},
          "execution_count": 2
        }
      ]
    },
    {
      "cell_type": "markdown",
      "source": [
        "Merubah dataframe menjadi numpy agar bisa melakukan perhitungan eucledian distance dengan menggunakan library numpy"
      ],
      "metadata": {
        "id": "fHrC7sds3UqM"
      }
    },
    {
      "cell_type": "code",
      "source": [
        "data = data.to_numpy()"
      ],
      "metadata": {
        "id": "OjKr8ZPWOO4l"
      },
      "execution_count": 3,
      "outputs": []
    },
    {
      "cell_type": "markdown",
      "source": [
        "Menghitung eucledian distance dari setiap data"
      ],
      "metadata": {
        "id": "3MJfwS6B3FL1"
      }
    },
    {
      "cell_type": "code",
      "source": [
        "prxy_mtrx = []\n",
        "for poin1 in data:\n",
        "  row = []\n",
        "  for poin2 in data:\n",
        "    # np linalg norm adalah library dari numpy untuk menghitung eucledian distance dari 2 poin\n",
        "    row.append(np.linalg.norm(poin1-poin2))\n",
        "  prxy_mtrx.append(row)\n",
        "  \n",
        "# penamaan index dataframe\n",
        "n_data =[]\n",
        "for i in range(len(prxy_mtrx)):\n",
        "  n_data.append(f'Data {i+1}')\n",
        "\n",
        "df_proximity_mtrx = pd.DataFrame(prxy_mtrx, columns=n_data, index=n_data)"
      ],
      "metadata": {
        "id": "d_6AJkZWRYAn"
      },
      "execution_count": 4,
      "outputs": []
    },
    {
      "cell_type": "markdown",
      "source": [
        "Menampilkan hasil proximity matrix dalam bentuk dataframe"
      ],
      "metadata": {
        "id": "EqmjnrGz3Mw4"
      }
    },
    {
      "cell_type": "code",
      "source": [
        "df_proximity_mtrx"
      ],
      "metadata": {
        "colab": {
          "base_uri": "https://localhost:8080/",
          "height": 300
        },
        "id": "v3wh7sUAUVAO",
        "outputId": "a78396ff-ea89-4b4d-e4a6-dca5e1adc022"
      },
      "execution_count": 5,
      "outputs": [
        {
          "output_type": "execute_result",
          "data": {
            "text/plain": [
              "           Data 1     Data 2     Data 3     Data 4     Data 5     Data 6  \\\n",
              "Data 1   0.000000  25.495098   9.486833  15.588457  14.142136  15.556349   \n",
              "Data 2  25.495098   0.000000  18.708287  13.152946  20.248457  19.026298   \n",
              "Data 3   9.486833  18.708287   0.000000   7.549834   6.164414   7.483315   \n",
              "Data 4  15.588457  13.152946   7.549834   0.000000   7.681146   6.403124   \n",
              "Data 5  14.142136  20.248457   6.164414   7.681146   0.000000   2.449490   \n",
              "Data 6  15.556349  19.026298   7.483315   6.403124   2.449490   0.000000   \n",
              "Data 7  11.575837  13.928388   6.633250   7.000000  11.401754  11.489125   \n",
              "Data 8  10.246951  20.856654   3.000000   9.695360   5.744563   7.810250   \n",
              "\n",
              "           Data 7     Data 8  \n",
              "Data 1  11.575837  10.246951  \n",
              "Data 2  13.928388  20.856654  \n",
              "Data 3   6.633250   3.000000  \n",
              "Data 4   7.000000   9.695360  \n",
              "Data 5  11.401754   5.744563  \n",
              "Data 6  11.489125   7.810250  \n",
              "Data 7   0.000000   9.433981  \n",
              "Data 8   9.433981   0.000000  "
            ],
            "text/html": [
              "\n",
              "  <div id=\"df-dc7b29bd-341d-4e6a-9816-e06be9f5a2b7\">\n",
              "    <div class=\"colab-df-container\">\n",
              "      <div>\n",
              "<style scoped>\n",
              "    .dataframe tbody tr th:only-of-type {\n",
              "        vertical-align: middle;\n",
              "    }\n",
              "\n",
              "    .dataframe tbody tr th {\n",
              "        vertical-align: top;\n",
              "    }\n",
              "\n",
              "    .dataframe thead th {\n",
              "        text-align: right;\n",
              "    }\n",
              "</style>\n",
              "<table border=\"1\" class=\"dataframe\">\n",
              "  <thead>\n",
              "    <tr style=\"text-align: right;\">\n",
              "      <th></th>\n",
              "      <th>Data 1</th>\n",
              "      <th>Data 2</th>\n",
              "      <th>Data 3</th>\n",
              "      <th>Data 4</th>\n",
              "      <th>Data 5</th>\n",
              "      <th>Data 6</th>\n",
              "      <th>Data 7</th>\n",
              "      <th>Data 8</th>\n",
              "    </tr>\n",
              "  </thead>\n",
              "  <tbody>\n",
              "    <tr>\n",
              "      <th>Data 1</th>\n",
              "      <td>0.000000</td>\n",
              "      <td>25.495098</td>\n",
              "      <td>9.486833</td>\n",
              "      <td>15.588457</td>\n",
              "      <td>14.142136</td>\n",
              "      <td>15.556349</td>\n",
              "      <td>11.575837</td>\n",
              "      <td>10.246951</td>\n",
              "    </tr>\n",
              "    <tr>\n",
              "      <th>Data 2</th>\n",
              "      <td>25.495098</td>\n",
              "      <td>0.000000</td>\n",
              "      <td>18.708287</td>\n",
              "      <td>13.152946</td>\n",
              "      <td>20.248457</td>\n",
              "      <td>19.026298</td>\n",
              "      <td>13.928388</td>\n",
              "      <td>20.856654</td>\n",
              "    </tr>\n",
              "    <tr>\n",
              "      <th>Data 3</th>\n",
              "      <td>9.486833</td>\n",
              "      <td>18.708287</td>\n",
              "      <td>0.000000</td>\n",
              "      <td>7.549834</td>\n",
              "      <td>6.164414</td>\n",
              "      <td>7.483315</td>\n",
              "      <td>6.633250</td>\n",
              "      <td>3.000000</td>\n",
              "    </tr>\n",
              "    <tr>\n",
              "      <th>Data 4</th>\n",
              "      <td>15.588457</td>\n",
              "      <td>13.152946</td>\n",
              "      <td>7.549834</td>\n",
              "      <td>0.000000</td>\n",
              "      <td>7.681146</td>\n",
              "      <td>6.403124</td>\n",
              "      <td>7.000000</td>\n",
              "      <td>9.695360</td>\n",
              "    </tr>\n",
              "    <tr>\n",
              "      <th>Data 5</th>\n",
              "      <td>14.142136</td>\n",
              "      <td>20.248457</td>\n",
              "      <td>6.164414</td>\n",
              "      <td>7.681146</td>\n",
              "      <td>0.000000</td>\n",
              "      <td>2.449490</td>\n",
              "      <td>11.401754</td>\n",
              "      <td>5.744563</td>\n",
              "    </tr>\n",
              "    <tr>\n",
              "      <th>Data 6</th>\n",
              "      <td>15.556349</td>\n",
              "      <td>19.026298</td>\n",
              "      <td>7.483315</td>\n",
              "      <td>6.403124</td>\n",
              "      <td>2.449490</td>\n",
              "      <td>0.000000</td>\n",
              "      <td>11.489125</td>\n",
              "      <td>7.810250</td>\n",
              "    </tr>\n",
              "    <tr>\n",
              "      <th>Data 7</th>\n",
              "      <td>11.575837</td>\n",
              "      <td>13.928388</td>\n",
              "      <td>6.633250</td>\n",
              "      <td>7.000000</td>\n",
              "      <td>11.401754</td>\n",
              "      <td>11.489125</td>\n",
              "      <td>0.000000</td>\n",
              "      <td>9.433981</td>\n",
              "    </tr>\n",
              "    <tr>\n",
              "      <th>Data 8</th>\n",
              "      <td>10.246951</td>\n",
              "      <td>20.856654</td>\n",
              "      <td>3.000000</td>\n",
              "      <td>9.695360</td>\n",
              "      <td>5.744563</td>\n",
              "      <td>7.810250</td>\n",
              "      <td>9.433981</td>\n",
              "      <td>0.000000</td>\n",
              "    </tr>\n",
              "  </tbody>\n",
              "</table>\n",
              "</div>\n",
              "      <button class=\"colab-df-convert\" onclick=\"convertToInteractive('df-dc7b29bd-341d-4e6a-9816-e06be9f5a2b7')\"\n",
              "              title=\"Convert this dataframe to an interactive table.\"\n",
              "              style=\"display:none;\">\n",
              "        \n",
              "  <svg xmlns=\"http://www.w3.org/2000/svg\" height=\"24px\"viewBox=\"0 0 24 24\"\n",
              "       width=\"24px\">\n",
              "    <path d=\"M0 0h24v24H0V0z\" fill=\"none\"/>\n",
              "    <path d=\"M18.56 5.44l.94 2.06.94-2.06 2.06-.94-2.06-.94-.94-2.06-.94 2.06-2.06.94zm-11 1L8.5 8.5l.94-2.06 2.06-.94-2.06-.94L8.5 2.5l-.94 2.06-2.06.94zm10 10l.94 2.06.94-2.06 2.06-.94-2.06-.94-.94-2.06-.94 2.06-2.06.94z\"/><path d=\"M17.41 7.96l-1.37-1.37c-.4-.4-.92-.59-1.43-.59-.52 0-1.04.2-1.43.59L10.3 9.45l-7.72 7.72c-.78.78-.78 2.05 0 2.83L4 21.41c.39.39.9.59 1.41.59.51 0 1.02-.2 1.41-.59l7.78-7.78 2.81-2.81c.8-.78.8-2.07 0-2.86zM5.41 20L4 18.59l7.72-7.72 1.47 1.35L5.41 20z\"/>\n",
              "  </svg>\n",
              "      </button>\n",
              "      \n",
              "  <style>\n",
              "    .colab-df-container {\n",
              "      display:flex;\n",
              "      flex-wrap:wrap;\n",
              "      gap: 12px;\n",
              "    }\n",
              "\n",
              "    .colab-df-convert {\n",
              "      background-color: #E8F0FE;\n",
              "      border: none;\n",
              "      border-radius: 50%;\n",
              "      cursor: pointer;\n",
              "      display: none;\n",
              "      fill: #1967D2;\n",
              "      height: 32px;\n",
              "      padding: 0 0 0 0;\n",
              "      width: 32px;\n",
              "    }\n",
              "\n",
              "    .colab-df-convert:hover {\n",
              "      background-color: #E2EBFA;\n",
              "      box-shadow: 0px 1px 2px rgba(60, 64, 67, 0.3), 0px 1px 3px 1px rgba(60, 64, 67, 0.15);\n",
              "      fill: #174EA6;\n",
              "    }\n",
              "\n",
              "    [theme=dark] .colab-df-convert {\n",
              "      background-color: #3B4455;\n",
              "      fill: #D2E3FC;\n",
              "    }\n",
              "\n",
              "    [theme=dark] .colab-df-convert:hover {\n",
              "      background-color: #434B5C;\n",
              "      box-shadow: 0px 1px 3px 1px rgba(0, 0, 0, 0.15);\n",
              "      filter: drop-shadow(0px 1px 2px rgba(0, 0, 0, 0.3));\n",
              "      fill: #FFFFFF;\n",
              "    }\n",
              "  </style>\n",
              "\n",
              "      <script>\n",
              "        const buttonEl =\n",
              "          document.querySelector('#df-dc7b29bd-341d-4e6a-9816-e06be9f5a2b7 button.colab-df-convert');\n",
              "        buttonEl.style.display =\n",
              "          google.colab.kernel.accessAllowed ? 'block' : 'none';\n",
              "\n",
              "        async function convertToInteractive(key) {\n",
              "          const element = document.querySelector('#df-dc7b29bd-341d-4e6a-9816-e06be9f5a2b7');\n",
              "          const dataTable =\n",
              "            await google.colab.kernel.invokeFunction('convertToInteractive',\n",
              "                                                     [key], {});\n",
              "          if (!dataTable) return;\n",
              "\n",
              "          const docLinkHtml = 'Like what you see? Visit the ' +\n",
              "            '<a target=\"_blank\" href=https://colab.research.google.com/notebooks/data_table.ipynb>data table notebook</a>'\n",
              "            + ' to learn more about interactive tables.';\n",
              "          element.innerHTML = '';\n",
              "          dataTable['output_type'] = 'display_data';\n",
              "          await google.colab.output.renderOutput(dataTable, element);\n",
              "          const docLink = document.createElement('div');\n",
              "          docLink.innerHTML = docLinkHtml;\n",
              "          element.appendChild(docLink);\n",
              "        }\n",
              "      </script>\n",
              "    </div>\n",
              "  </div>\n",
              "  "
            ]
          },
          "metadata": {},
          "execution_count": 5
        }
      ]
    },
    {
      "cell_type": "markdown",
      "source": [
        "## Gini and Entropy"
      ],
      "metadata": {
        "id": "JqYvBJ91GkJt"
      }
    },
    {
      "cell_type": "markdown",
      "source": [
        "Membaca dataset excel menggunakan library pandas untuk merubah menjadi dataframe"
      ],
      "metadata": {
        "id": "LaDG0K8t6W8B"
      }
    },
    {
      "cell_type": "code",
      "source": [
        "data = pd.read_excel('DataCoba.xlsx', sheet_name='Sheet2')\n",
        "data.head()"
      ],
      "metadata": {
        "id": "PV50QLJtGp8D",
        "colab": {
          "base_uri": "https://localhost:8080/",
          "height": 206
        },
        "outputId": "4fe86f6f-2f03-4820-b270-dd0664774bee"
      },
      "execution_count": 6,
      "outputs": [
        {
          "output_type": "execute_result",
          "data": {
            "text/plain": [
              "   Feat 1     Feat 2 Feat 3  Feat 4 Class\n",
              "0   Jeruk  TIDAK ADA      L   LOKAL    C0\n",
              "1   Jeruk        ADA      M   LOKAL    C0\n",
              "2  Mangga  TIDAK ADA      S  IMPORT    C0\n",
              "3  Mangga  TIDAK ADA      M  IMPORT    C0\n",
              "4   Jeruk        ADA      L  IMPORT    C0"
            ],
            "text/html": [
              "\n",
              "  <div id=\"df-dd353350-1a82-4323-ab09-eeea8d41c0c3\">\n",
              "    <div class=\"colab-df-container\">\n",
              "      <div>\n",
              "<style scoped>\n",
              "    .dataframe tbody tr th:only-of-type {\n",
              "        vertical-align: middle;\n",
              "    }\n",
              "\n",
              "    .dataframe tbody tr th {\n",
              "        vertical-align: top;\n",
              "    }\n",
              "\n",
              "    .dataframe thead th {\n",
              "        text-align: right;\n",
              "    }\n",
              "</style>\n",
              "<table border=\"1\" class=\"dataframe\">\n",
              "  <thead>\n",
              "    <tr style=\"text-align: right;\">\n",
              "      <th></th>\n",
              "      <th>Feat 1</th>\n",
              "      <th>Feat 2</th>\n",
              "      <th>Feat 3</th>\n",
              "      <th>Feat 4</th>\n",
              "      <th>Class</th>\n",
              "    </tr>\n",
              "  </thead>\n",
              "  <tbody>\n",
              "    <tr>\n",
              "      <th>0</th>\n",
              "      <td>Jeruk</td>\n",
              "      <td>TIDAK ADA</td>\n",
              "      <td>L</td>\n",
              "      <td>LOKAL</td>\n",
              "      <td>C0</td>\n",
              "    </tr>\n",
              "    <tr>\n",
              "      <th>1</th>\n",
              "      <td>Jeruk</td>\n",
              "      <td>ADA</td>\n",
              "      <td>M</td>\n",
              "      <td>LOKAL</td>\n",
              "      <td>C0</td>\n",
              "    </tr>\n",
              "    <tr>\n",
              "      <th>2</th>\n",
              "      <td>Mangga</td>\n",
              "      <td>TIDAK ADA</td>\n",
              "      <td>S</td>\n",
              "      <td>IMPORT</td>\n",
              "      <td>C0</td>\n",
              "    </tr>\n",
              "    <tr>\n",
              "      <th>3</th>\n",
              "      <td>Mangga</td>\n",
              "      <td>TIDAK ADA</td>\n",
              "      <td>M</td>\n",
              "      <td>IMPORT</td>\n",
              "      <td>C0</td>\n",
              "    </tr>\n",
              "    <tr>\n",
              "      <th>4</th>\n",
              "      <td>Jeruk</td>\n",
              "      <td>ADA</td>\n",
              "      <td>L</td>\n",
              "      <td>IMPORT</td>\n",
              "      <td>C0</td>\n",
              "    </tr>\n",
              "  </tbody>\n",
              "</table>\n",
              "</div>\n",
              "      <button class=\"colab-df-convert\" onclick=\"convertToInteractive('df-dd353350-1a82-4323-ab09-eeea8d41c0c3')\"\n",
              "              title=\"Convert this dataframe to an interactive table.\"\n",
              "              style=\"display:none;\">\n",
              "        \n",
              "  <svg xmlns=\"http://www.w3.org/2000/svg\" height=\"24px\"viewBox=\"0 0 24 24\"\n",
              "       width=\"24px\">\n",
              "    <path d=\"M0 0h24v24H0V0z\" fill=\"none\"/>\n",
              "    <path d=\"M18.56 5.44l.94 2.06.94-2.06 2.06-.94-2.06-.94-.94-2.06-.94 2.06-2.06.94zm-11 1L8.5 8.5l.94-2.06 2.06-.94-2.06-.94L8.5 2.5l-.94 2.06-2.06.94zm10 10l.94 2.06.94-2.06 2.06-.94-2.06-.94-.94-2.06-.94 2.06-2.06.94z\"/><path d=\"M17.41 7.96l-1.37-1.37c-.4-.4-.92-.59-1.43-.59-.52 0-1.04.2-1.43.59L10.3 9.45l-7.72 7.72c-.78.78-.78 2.05 0 2.83L4 21.41c.39.39.9.59 1.41.59.51 0 1.02-.2 1.41-.59l7.78-7.78 2.81-2.81c.8-.78.8-2.07 0-2.86zM5.41 20L4 18.59l7.72-7.72 1.47 1.35L5.41 20z\"/>\n",
              "  </svg>\n",
              "      </button>\n",
              "      \n",
              "  <style>\n",
              "    .colab-df-container {\n",
              "      display:flex;\n",
              "      flex-wrap:wrap;\n",
              "      gap: 12px;\n",
              "    }\n",
              "\n",
              "    .colab-df-convert {\n",
              "      background-color: #E8F0FE;\n",
              "      border: none;\n",
              "      border-radius: 50%;\n",
              "      cursor: pointer;\n",
              "      display: none;\n",
              "      fill: #1967D2;\n",
              "      height: 32px;\n",
              "      padding: 0 0 0 0;\n",
              "      width: 32px;\n",
              "    }\n",
              "\n",
              "    .colab-df-convert:hover {\n",
              "      background-color: #E2EBFA;\n",
              "      box-shadow: 0px 1px 2px rgba(60, 64, 67, 0.3), 0px 1px 3px 1px rgba(60, 64, 67, 0.15);\n",
              "      fill: #174EA6;\n",
              "    }\n",
              "\n",
              "    [theme=dark] .colab-df-convert {\n",
              "      background-color: #3B4455;\n",
              "      fill: #D2E3FC;\n",
              "    }\n",
              "\n",
              "    [theme=dark] .colab-df-convert:hover {\n",
              "      background-color: #434B5C;\n",
              "      box-shadow: 0px 1px 3px 1px rgba(0, 0, 0, 0.15);\n",
              "      filter: drop-shadow(0px 1px 2px rgba(0, 0, 0, 0.3));\n",
              "      fill: #FFFFFF;\n",
              "    }\n",
              "  </style>\n",
              "\n",
              "      <script>\n",
              "        const buttonEl =\n",
              "          document.querySelector('#df-dd353350-1a82-4323-ab09-eeea8d41c0c3 button.colab-df-convert');\n",
              "        buttonEl.style.display =\n",
              "          google.colab.kernel.accessAllowed ? 'block' : 'none';\n",
              "\n",
              "        async function convertToInteractive(key) {\n",
              "          const element = document.querySelector('#df-dd353350-1a82-4323-ab09-eeea8d41c0c3');\n",
              "          const dataTable =\n",
              "            await google.colab.kernel.invokeFunction('convertToInteractive',\n",
              "                                                     [key], {});\n",
              "          if (!dataTable) return;\n",
              "\n",
              "          const docLinkHtml = 'Like what you see? Visit the ' +\n",
              "            '<a target=\"_blank\" href=https://colab.research.google.com/notebooks/data_table.ipynb>data table notebook</a>'\n",
              "            + ' to learn more about interactive tables.';\n",
              "          element.innerHTML = '';\n",
              "          dataTable['output_type'] = 'display_data';\n",
              "          await google.colab.output.renderOutput(dataTable, element);\n",
              "          const docLink = document.createElement('div');\n",
              "          docLink.innerHTML = docLinkHtml;\n",
              "          element.appendChild(docLink);\n",
              "        }\n",
              "      </script>\n",
              "    </div>\n",
              "  </div>\n",
              "  "
            ]
          },
          "metadata": {},
          "execution_count": 6
        }
      ]
    },
    {
      "cell_type": "markdown",
      "source": [
        "mencari total data dan mencari jumlah masing-masing class atau label "
      ],
      "metadata": {
        "id": "07Jy1mHc7t2U"
      }
    },
    {
      "cell_type": "code",
      "source": [
        "total_data = data.shape[0]\n",
        "n_class = data['Class'].value_counts()\n",
        "print(n_class)"
      ],
      "metadata": {
        "id": "Q5w1nUUfJaGm",
        "colab": {
          "base_uri": "https://localhost:8080/"
        },
        "outputId": "fea23ffc-b678-4e91-9408-73e93e3bd2c9"
      },
      "execution_count": 7,
      "outputs": [
        {
          "output_type": "stream",
          "name": "stdout",
          "text": [
            "C0    25\n",
            "C1    25\n",
            "Name: Class, dtype: int64\n"
          ]
        }
      ]
    },
    {
      "cell_type": "markdown",
      "source": [
        "Menghitung Gini dan Entropy dari parent"
      ],
      "metadata": {
        "id": "dhaBdaS28KBd"
      }
    },
    {
      "cell_type": "code",
      "source": [
        "n_class_dict = n_class.to_dict()\n",
        "gini_sum = 0\n",
        "entropy_parent = 0\n",
        "for cls,val in n_class_dict.items():\n",
        "  gini_sum = gini_sum + (val/total_data)**2\n",
        "  entropy_parent = entropy_parent - (val/total_data * math.log2(val/total_data)) \n",
        "gini_parent = 1-gini_sum\n",
        "\n",
        "temp_dict = {}\n",
        "for cls,val in n_class_dict.items():\n",
        "  temp_dict[cls] = [val]\n",
        "temp_dict['Gini'] = [gini_parent]\n",
        "temp_dict['Entropy'] = [entropy_parent]\n",
        "\n",
        "parent = pd.DataFrame(temp_dict, index=['Parent'])\n",
        "parent"
      ],
      "metadata": {
        "colab": {
          "base_uri": "https://localhost:8080/",
          "height": 81
        },
        "id": "TCIpBgYbPG6I",
        "outputId": "839ebb70-6057-4fd8-ce51-05f11d67e9c0"
      },
      "execution_count": 8,
      "outputs": [
        {
          "output_type": "execute_result",
          "data": {
            "text/plain": [
              "        C0  C1  Gini  Entropy\n",
              "Parent  25  25   0.5      1.0"
            ],
            "text/html": [
              "\n",
              "  <div id=\"df-62f5386a-8114-4df9-adf4-75f9558ff832\">\n",
              "    <div class=\"colab-df-container\">\n",
              "      <div>\n",
              "<style scoped>\n",
              "    .dataframe tbody tr th:only-of-type {\n",
              "        vertical-align: middle;\n",
              "    }\n",
              "\n",
              "    .dataframe tbody tr th {\n",
              "        vertical-align: top;\n",
              "    }\n",
              "\n",
              "    .dataframe thead th {\n",
              "        text-align: right;\n",
              "    }\n",
              "</style>\n",
              "<table border=\"1\" class=\"dataframe\">\n",
              "  <thead>\n",
              "    <tr style=\"text-align: right;\">\n",
              "      <th></th>\n",
              "      <th>C0</th>\n",
              "      <th>C1</th>\n",
              "      <th>Gini</th>\n",
              "      <th>Entropy</th>\n",
              "    </tr>\n",
              "  </thead>\n",
              "  <tbody>\n",
              "    <tr>\n",
              "      <th>Parent</th>\n",
              "      <td>25</td>\n",
              "      <td>25</td>\n",
              "      <td>0.5</td>\n",
              "      <td>1.0</td>\n",
              "    </tr>\n",
              "  </tbody>\n",
              "</table>\n",
              "</div>\n",
              "      <button class=\"colab-df-convert\" onclick=\"convertToInteractive('df-62f5386a-8114-4df9-adf4-75f9558ff832')\"\n",
              "              title=\"Convert this dataframe to an interactive table.\"\n",
              "              style=\"display:none;\">\n",
              "        \n",
              "  <svg xmlns=\"http://www.w3.org/2000/svg\" height=\"24px\"viewBox=\"0 0 24 24\"\n",
              "       width=\"24px\">\n",
              "    <path d=\"M0 0h24v24H0V0z\" fill=\"none\"/>\n",
              "    <path d=\"M18.56 5.44l.94 2.06.94-2.06 2.06-.94-2.06-.94-.94-2.06-.94 2.06-2.06.94zm-11 1L8.5 8.5l.94-2.06 2.06-.94-2.06-.94L8.5 2.5l-.94 2.06-2.06.94zm10 10l.94 2.06.94-2.06 2.06-.94-2.06-.94-.94-2.06-.94 2.06-2.06.94z\"/><path d=\"M17.41 7.96l-1.37-1.37c-.4-.4-.92-.59-1.43-.59-.52 0-1.04.2-1.43.59L10.3 9.45l-7.72 7.72c-.78.78-.78 2.05 0 2.83L4 21.41c.39.39.9.59 1.41.59.51 0 1.02-.2 1.41-.59l7.78-7.78 2.81-2.81c.8-.78.8-2.07 0-2.86zM5.41 20L4 18.59l7.72-7.72 1.47 1.35L5.41 20z\"/>\n",
              "  </svg>\n",
              "      </button>\n",
              "      \n",
              "  <style>\n",
              "    .colab-df-container {\n",
              "      display:flex;\n",
              "      flex-wrap:wrap;\n",
              "      gap: 12px;\n",
              "    }\n",
              "\n",
              "    .colab-df-convert {\n",
              "      background-color: #E8F0FE;\n",
              "      border: none;\n",
              "      border-radius: 50%;\n",
              "      cursor: pointer;\n",
              "      display: none;\n",
              "      fill: #1967D2;\n",
              "      height: 32px;\n",
              "      padding: 0 0 0 0;\n",
              "      width: 32px;\n",
              "    }\n",
              "\n",
              "    .colab-df-convert:hover {\n",
              "      background-color: #E2EBFA;\n",
              "      box-shadow: 0px 1px 2px rgba(60, 64, 67, 0.3), 0px 1px 3px 1px rgba(60, 64, 67, 0.15);\n",
              "      fill: #174EA6;\n",
              "    }\n",
              "\n",
              "    [theme=dark] .colab-df-convert {\n",
              "      background-color: #3B4455;\n",
              "      fill: #D2E3FC;\n",
              "    }\n",
              "\n",
              "    [theme=dark] .colab-df-convert:hover {\n",
              "      background-color: #434B5C;\n",
              "      box-shadow: 0px 1px 3px 1px rgba(0, 0, 0, 0.15);\n",
              "      filter: drop-shadow(0px 1px 2px rgba(0, 0, 0, 0.3));\n",
              "      fill: #FFFFFF;\n",
              "    }\n",
              "  </style>\n",
              "\n",
              "      <script>\n",
              "        const buttonEl =\n",
              "          document.querySelector('#df-62f5386a-8114-4df9-adf4-75f9558ff832 button.colab-df-convert');\n",
              "        buttonEl.style.display =\n",
              "          google.colab.kernel.accessAllowed ? 'block' : 'none';\n",
              "\n",
              "        async function convertToInteractive(key) {\n",
              "          const element = document.querySelector('#df-62f5386a-8114-4df9-adf4-75f9558ff832');\n",
              "          const dataTable =\n",
              "            await google.colab.kernel.invokeFunction('convertToInteractive',\n",
              "                                                     [key], {});\n",
              "          if (!dataTable) return;\n",
              "\n",
              "          const docLinkHtml = 'Like what you see? Visit the ' +\n",
              "            '<a target=\"_blank\" href=https://colab.research.google.com/notebooks/data_table.ipynb>data table notebook</a>'\n",
              "            + ' to learn more about interactive tables.';\n",
              "          element.innerHTML = '';\n",
              "          dataTable['output_type'] = 'display_data';\n",
              "          await google.colab.output.renderOutput(dataTable, element);\n",
              "          const docLink = document.createElement('div');\n",
              "          docLink.innerHTML = docLinkHtml;\n",
              "          element.appendChild(docLink);\n",
              "        }\n",
              "      </script>\n",
              "    </div>\n",
              "  </div>\n",
              "  "
            ]
          },
          "metadata": {},
          "execution_count": 8
        }
      ]
    },
    {
      "cell_type": "markdown",
      "source": [
        "Menghitung Jumlah Item Dari Masing masing feature"
      ],
      "metadata": {
        "id": "R7K4JQlL8vzv"
      }
    },
    {
      "cell_type": "code",
      "source": [
        "# mengambil semua data pada masing\" atribut kecuali class\n",
        "features = data.loc[:, data.columns != 'Class']\n",
        "dict_features_val_counts = {}\n",
        "for i in features:\n",
        "  dict_features_val_counts[i] = features[i].value_counts().to_dict()\n",
        "\n",
        "\n",
        "for feat,val in dict_features_val_counts.items():\n",
        "  print(feat, val)"
      ],
      "metadata": {
        "colab": {
          "base_uri": "https://localhost:8080/"
        },
        "id": "phAzcEMYeMXj",
        "outputId": "6c59218a-5606-4d3c-f478-0d55e1b0b883"
      },
      "execution_count": 9,
      "outputs": [
        {
          "output_type": "stream",
          "name": "stdout",
          "text": [
            "Feat 1 {'Mangga': 20, 'Jeruk': 19, 'Apel': 11}\n",
            "Feat 2 {'ADA': 31, 'TIDAK ADA': 19}\n",
            "Feat 3 {'S': 22, 'M': 16, 'L': 12}\n",
            "Feat 4 {'LOKAL': 25, 'IMPORT': 25}\n"
          ]
        }
      ]
    },
    {
      "cell_type": "markdown",
      "source": [
        "Menghitung Gini dan Entropy dari masing masing item dan menghitung gain gini dan gain entropy dari masing masing feature"
      ],
      "metadata": {
        "id": "_j6TWM999Nq8"
      }
    },
    {
      "cell_type": "code",
      "source": [
        "temp_dict_feat = {}\n",
        "for feat,val in dict_features_val_counts.items():\n",
        "  gain_gini = 0\n",
        "  for key,item in val.items():\n",
        "    gini_sum = 0\n",
        "    entropy = 0\n",
        "    for cls in n_class_dict:\n",
        "      new_df = data[((data[feat] == key) & (data['Class'] == cls))]\n",
        "      # jumlah item tertentu pada class tertentu\n",
        "      count = new_df[feat].count()\n",
        "      # jumlah item tertentu pada semua class\n",
        "      total = dict_features_val_counts[feat][key]\n",
        "      # probability\n",
        "      probability = count/total\n",
        "      # gini sum\n",
        "      gini_sum = gini_sum + (probability)**2\n",
        "      # entropy\n",
        "      try:\n",
        "        entropy = entropy - probability * math.log2(probability)\n",
        "      except:\n",
        "        # jika perhitungan log error default nilai entropy 0\n",
        "        entropy = 0\n",
        "      if feat not in temp_dict_feat:\n",
        "        temp_dict_feat[feat] = { key : { cls : count} }\n",
        "      else :\n",
        "        if key not in temp_dict_feat[feat]:\n",
        "          temp_dict_feat[feat][key] = { cls : count}\n",
        "        else:\n",
        "          temp_dict_feat[feat][key][cls] = count\n",
        "      # print(feat,key,cls, count)\n",
        "    # total item\n",
        "    temp_dict_feat[feat][key]['Total'] =  total\n",
        "    # rumus gini\n",
        "    gini = 1-gini_sum\n",
        "    temp_dict_feat[feat][key]['Gini'] = gini\n",
        "    temp_dict_feat[feat][key]['Entropy'] = entropy\n",
        "\n",
        "\n",
        "for feat,val in temp_dict_feat.items():\n",
        "  _var_gini = 0\n",
        "  _var_entropy = 0\n",
        "  for item,vl in val.items():\n",
        "    # variable penampung untuk perhitungan gain gini\n",
        "    _var_gini = _var_gini + (vl['Gini'] * (vl['Total']/total_data))\n",
        "    # variable penampung untuk perhitungan gain entropy\n",
        "    _var_entropy = _var_entropy + (vl['Entropy'] * (vl['Total']/total_data))\n",
        "  gain_gini = gini_parent - _var_gini\n",
        "  gain_entropy = entropy_parent - _var_entropy\n",
        "  temp_dict_feat[feat]['Gain Gini'] = gain_gini\n",
        "  temp_dict_feat[feat]['Gain Entropy'] = gain_entropy\n",
        "\n",
        "for feat,val in temp_dict_feat.items():\n",
        "  print(feat, val)"
      ],
      "metadata": {
        "colab": {
          "base_uri": "https://localhost:8080/"
        },
        "id": "PaFIsq1li4Cz",
        "outputId": "dc16fc33-d209-406b-a3fd-678c19ea59c2"
      },
      "execution_count": 10,
      "outputs": [
        {
          "output_type": "stream",
          "name": "stdout",
          "text": [
            "Feat 1 {'Mangga': {'C0': 10, 'C1': 10, 'Total': 20, 'Gini': 0.5, 'Entropy': 1.0}, 'Jeruk': {'C0': 12, 'C1': 7, 'Total': 19, 'Gini': 0.46537396121883656, 'Entropy': 0.9494520153879484}, 'Apel': {'C0': 3, 'C1': 8, 'Total': 11, 'Gini': 0.39669421487603307, 'Entropy': 0.8453509366224365}, 'Gain Gini': 0.03588516746411485, 'Gain Entropy': 0.05323102809564362}\n",
            "Feat 2 {'ADA': {'C0': 17, 'C1': 14, 'Total': 31, 'Gini': 0.49531737773152973, 'Entropy': 0.9932338197397066}, 'TIDAK ADA': {'C0': 8, 'C1': 11, 'Total': 19, 'Gini': 0.48753462603878117, 'Entropy': 0.9819407868640976}, 'Gain Gini': 0.007640067911714732, 'Gain Entropy': 0.011057532753024901}\n",
            "Feat 3 {'S': {'C0': 14, 'C1': 8, 'Total': 22, 'Gini': 0.4628099173553719, 'Entropy': 0.9456603046006401}, 'M': {'C0': 6, 'C1': 10, 'Total': 16, 'Gini': 0.46875, 'Entropy': 0.9544340029249649}, 'L': {'C0': 5, 'C1': 7, 'Total': 12, 'Gini': 0.48611111111111105, 'Entropy': 0.9798687566511528}, 'Gain Gini': 0.02969696969696972, 'Gain Entropy': 0.0433220834434529}\n",
            "Feat 4 {'LOKAL': {'C0': 11, 'C1': 14, 'Total': 25, 'Gini': 0.4927999999999999, 'Entropy': 0.9895875212220556}, 'IMPORT': {'C0': 14, 'C1': 11, 'Total': 25, 'Gini': 0.4927999999999999, 'Entropy': 0.9895875212220556}, 'Gain Gini': 0.007200000000000095, 'Gain Entropy': 0.010412478777944378}\n"
          ]
        }
      ]
    },
    {
      "cell_type": "markdown",
      "source": [
        "Menampilkan gain gini dan gain entropy dari masing-masing feature kemudian mencari gain gini dan gain entropy terbesar"
      ],
      "metadata": {
        "id": "SiLsA5Bp97Sh"
      }
    },
    {
      "cell_type": "code",
      "source": [
        "gain_gini_terbesar = ['',0]\n",
        "gain_entropy_terbesar = ['',0]\n",
        "for feat in temp_dict_feat:\n",
        "  if temp_dict_feat[feat][\"Gain Gini\"] > gain_gini_terbesar[1]:\n",
        "    gain_gini_terbesar[0] = feat\n",
        "    gain_gini_terbesar[1] = temp_dict_feat[feat][\"Gain Gini\"]\n",
        "  if temp_dict_feat[feat][\"Gain Entropy\"] > gain_entropy_terbesar[1]:\n",
        "    gain_entropy_terbesar[0] = feat\n",
        "    gain_entropy_terbesar[1] = temp_dict_feat[feat][\"Gain Entropy\"]\n",
        "  print(f'{feat} memiliki Gain Gini : {temp_dict_feat[feat][\"Gain Gini\"]}')\n",
        "  print(f'{feat} memiliki Gain Entropy : {temp_dict_feat[feat][\"Gain Entropy\"]}')"
      ],
      "metadata": {
        "colab": {
          "base_uri": "https://localhost:8080/"
        },
        "id": "kYxhMAcn7e3s",
        "outputId": "356c2d49-698c-4515-c694-e5164a26a3ac"
      },
      "execution_count": 11,
      "outputs": [
        {
          "output_type": "stream",
          "name": "stdout",
          "text": [
            "Feat 1 memiliki Gain Gini : 0.03588516746411485\n",
            "Feat 1 memiliki Gain Entropy : 0.05323102809564362\n",
            "Feat 2 memiliki Gain Gini : 0.007640067911714732\n",
            "Feat 2 memiliki Gain Entropy : 0.011057532753024901\n",
            "Feat 3 memiliki Gain Gini : 0.02969696969696972\n",
            "Feat 3 memiliki Gain Entropy : 0.0433220834434529\n",
            "Feat 4 memiliki Gain Gini : 0.007200000000000095\n",
            "Feat 4 memiliki Gain Entropy : 0.010412478777944378\n"
          ]
        }
      ]
    },
    {
      "cell_type": "code",
      "source": [
        "print(f'Best split berdasarkan gain gini terbesar yaitu atribut {gain_gini_terbesar[0]} sebesar {gain_gini_terbesar[1]}')\n",
        "print(f'Best split berdasarkan gain entropy terbesar yaitu atribut {gain_entropy_terbesar[0]} sebesar {gain_entropy_terbesar[1]}')"
      ],
      "metadata": {
        "colab": {
          "base_uri": "https://localhost:8080/"
        },
        "id": "uhKkprqeUpST",
        "outputId": "75984fd7-8dc1-4724-840a-0b184721b3c6"
      },
      "execution_count": 12,
      "outputs": [
        {
          "output_type": "stream",
          "name": "stdout",
          "text": [
            "Best split berdasarkan gain gini terbesar yaitu atribut Feat 1 sebesar 0.03588516746411485\n",
            "Best split berdasarkan gain entropy terbesar yaitu atribut Feat 1 sebesar 0.05323102809564362\n"
          ]
        }
      ]
    }
  ]
}